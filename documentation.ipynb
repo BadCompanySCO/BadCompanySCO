{
 "cells": [
  {
   "cell_type": "code",
   "execution_count": null,
   "metadata": {},
   "outputs": [],
   "source": [
    "# Streamlit dashboard \n",
    "# git: https://github.com/Sven-Bo/streamlit-sales-dashboard \n",
    "# YT: https://www.youtube.com/watch?v=Sb0A9i6d320"
   ]
  },
  {
   "cell_type": "code",
   "execution_count": null,
   "metadata": {},
   "outputs": [],
   "source": [
    "# Load file from disk\n",
    "\n",
    "import pandas as pd\n",
    "import plotly_express as px\n",
    "import streamlit as st\n",
    "\n",
    "st.set_page_config(page_title=\"Race Data\",\n",
    "                   page_icon=\":bar_chart:\",\n",
    "                   layout=\"wide\"\n",
    ")\n",
    "\n",
    "df = pd.read_excel(\n",
    "    io='data/data.xlsx',\n",
    "    engine='openpyxl',\n",
    "    sheet_name='Sheet1',\n",
    "    usecols='A:Z',\n",
    "    nrows=10000,\n",
    "\n",
    ")\n",
    "\n",
    "st.dataframe(df)"
   ]
  },
  {
   "cell_type": "code",
   "execution_count": null,
   "metadata": {},
   "outputs": [],
   "source": [
    "# ----- SIDEBAR -------\n",
    "\n",
    "st.sidebar.header(\"Please Filter Here:\")\n",
    "race = st.sidebar.multiselect(\n",
    "    \"Select a Race:\",\n",
    "    options=df[\"Race Name\"].unique(),\n",
    "    default=df[\"Race Name\"].unique()\n",
    ")"
   ]
  }
 ],
 "metadata": {
  "kernelspec": {
   "display_name": "Python 3",
   "language": "python",
   "name": "python3"
  },
  "language_info": {
   "codemirror_mode": {
    "name": "ipython",
    "version": 3
   },
   "file_extension": ".py",
   "mimetype": "text/x-python",
   "name": "python",
   "nbconvert_exporter": "python",
   "pygments_lexer": "ipython3",
   "version": "3.11.3"
  }
 },
 "nbformat": 4,
 "nbformat_minor": 2
}
