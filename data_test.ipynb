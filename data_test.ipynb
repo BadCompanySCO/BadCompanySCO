{
 "cells": [
  {
   "cell_type": "code",
   "execution_count": 1,
   "metadata": {},
   "outputs": [],
   "source": [
    "import streamlit as st  # pip install streamlit\n",
    "import pandas as pd  # pip install pandas\n",
    "import plotly.express as px  # pip install plotly-express"
   ]
  },
  {
   "cell_type": "markdown",
   "metadata": {},
   "source": [
    "# https://www.youtube.com/watch?v=zmdjNSmRXF4&t=98s - relevant video"
   ]
  },
  {
   "cell_type": "code",
   "execution_count": 2,
   "metadata": {},
   "outputs": [],
   "source": [
    "df = pd.read_excel('data/data.xlsx')\n",
    "# How to display all columns or set number\n",
    "# pd.set_option('display.max_columns', 15)\n",
    "# pd.set_option('display.max_rows', 700)"
   ]
  },
  {
   "cell_type": "code",
   "execution_count": 3,
   "metadata": {},
   "outputs": [
    {
     "data": {
      "text/plain": [
       "Position  First_Name\n",
       "24        Jonathan      2\n",
       "8         Andy          2\n",
       "3         Lewis         2\n",
       "124       Claire        2\n",
       "102       Gita          1\n",
       "                       ..\n",
       "37        Thomas        1\n",
       "38        Fiona         1\n",
       "          Lukasz        1\n",
       "          Natasha       1\n",
       "213       Jennifer      1\n",
       "Length: 688, dtype: int64"
      ]
     },
     "execution_count": 3,
     "metadata": {},
     "output_type": "execute_result"
    }
   ],
   "source": [
    "# pint out data frame\n",
    "df[['Position', 'First_Name']].value_counts()\n",
    "\n",
    "# Display top or bottom x row\n",
    "# df.head(10)\n",
    "# df.tail(10)\n",
    "# df['Position'] - a column\n",
    "# df[['Position', 'First_Name']]"
   ]
  },
  {
   "cell_type": "code",
   "execution_count": 4,
   "metadata": {},
   "outputs": [],
   "source": [
    "# display information on dataframe\n",
    "\n",
    "# df.info()\n",
    "# df.columns - Display Column Header"
   ]
  },
  {
   "cell_type": "code",
   "execution_count": 5,
   "metadata": {},
   "outputs": [
    {
     "data": {
      "text/html": [
       "<div>\n",
       "<style scoped>\n",
       "    .dataframe tbody tr th:only-of-type {\n",
       "        vertical-align: middle;\n",
       "    }\n",
       "\n",
       "    .dataframe tbody tr th {\n",
       "        vertical-align: top;\n",
       "    }\n",
       "\n",
       "    .dataframe thead th {\n",
       "        text-align: right;\n",
       "    }\n",
       "</style>\n",
       "<table border=\"1\" class=\"dataframe\">\n",
       "  <thead>\n",
       "    <tr style=\"text-align: right;\">\n",
       "      <th></th>\n",
       "      <th>Surname</th>\n",
       "      <th>Gender</th>\n",
       "      <th>Category</th>\n",
       "      <th>Club</th>\n",
       "      <th>Start</th>\n",
       "      <th>Finish</th>\n",
       "    </tr>\n",
       "  </thead>\n",
       "  <tbody>\n",
       "    <tr>\n",
       "      <th>0</th>\n",
       "      <td>Paterson</td>\n",
       "      <td>Male</td>\n",
       "      <td>Senior</td>\n",
       "      <td>NaN</td>\n",
       "      <td>09:45:00</td>\n",
       "      <td>10:24:41</td>\n",
       "    </tr>\n",
       "    <tr>\n",
       "      <th>1</th>\n",
       "      <td>Dhillon</td>\n",
       "      <td>Male</td>\n",
       "      <td>Senior</td>\n",
       "      <td>NaN</td>\n",
       "      <td>09:45:00</td>\n",
       "      <td>10:25:48</td>\n",
       "    </tr>\n",
       "    <tr>\n",
       "      <th>2</th>\n",
       "      <td>Ramsay</td>\n",
       "      <td>Male</td>\n",
       "      <td>40s</td>\n",
       "      <td>NaN</td>\n",
       "      <td>09:45:00</td>\n",
       "      <td>10:26:17</td>\n",
       "    </tr>\n",
       "    <tr>\n",
       "      <th>3</th>\n",
       "      <td>Macrae</td>\n",
       "      <td>Male</td>\n",
       "      <td>40s</td>\n",
       "      <td>NaN</td>\n",
       "      <td>09:45:00</td>\n",
       "      <td>10:26:19</td>\n",
       "    </tr>\n",
       "    <tr>\n",
       "      <th>4</th>\n",
       "      <td>Maciver</td>\n",
       "      <td>Male</td>\n",
       "      <td>Senior</td>\n",
       "      <td>Carnethy Hill Racing Club</td>\n",
       "      <td>09:45:00</td>\n",
       "      <td>10:28:10</td>\n",
       "    </tr>\n",
       "    <tr>\n",
       "      <th>5</th>\n",
       "      <td>Duncan</td>\n",
       "      <td>Female</td>\n",
       "      <td>Senior</td>\n",
       "      <td>Race Fitness</td>\n",
       "      <td>09:45:00</td>\n",
       "      <td>10:28:31</td>\n",
       "    </tr>\n",
       "  </tbody>\n",
       "</table>\n",
       "</div>"
      ],
      "text/plain": [
       "    Surname  Gender Category                       Club     Start    Finish\n",
       "0  Paterson    Male   Senior                        NaN  09:45:00  10:24:41\n",
       "1   Dhillon    Male   Senior                        NaN  09:45:00  10:25:48\n",
       "2    Ramsay    Male      40s                        NaN  09:45:00  10:26:17\n",
       "3    Macrae    Male      40s                        NaN  09:45:00  10:26:19\n",
       "4   Maciver    Male   Senior  Carnethy Hill Racing Club  09:45:00  10:28:10\n",
       "5    Duncan  Female   Senior               Race Fitness  09:45:00  10:28:31"
      ]
     },
     "execution_count": 5,
     "metadata": {},
     "output_type": "execute_result"
    }
   ],
   "source": [
    "# .iloc is for intger only - only use integer\n",
    "#df.loc[[0, 1]]\n",
    "\n",
    "# .loc - You can use LABLES\n",
    "# df.loc[[0, 1], ['First_Name', 'Surname']]\n",
    "\n",
    "# count the indicidual values in the dataframe\n",
    "# df[['Position', 'First_Name']].value_counts()\n",
    "\n",
    "# List a number of columns and rows\n",
    "df.loc[0:5, 'Surname':'Finish' ]"
   ]
  },
  {
   "cell_type": "code",
   "execution_count": 7,
   "metadata": {},
   "outputs": [
    {
     "data": {
      "text/html": [
       "<div>\n",
       "<style scoped>\n",
       "    .dataframe tbody tr th:only-of-type {\n",
       "        vertical-align: middle;\n",
       "    }\n",
       "\n",
       "    .dataframe tbody tr th {\n",
       "        vertical-align: top;\n",
       "    }\n",
       "\n",
       "    .dataframe thead th {\n",
       "        text-align: right;\n",
       "    }\n",
       "</style>\n",
       "<table border=\"1\" class=\"dataframe\">\n",
       "  <thead>\n",
       "    <tr style=\"text-align: right;\">\n",
       "      <th></th>\n",
       "      <th>Position</th>\n",
       "      <th>Number</th>\n",
       "      <th>First_Name</th>\n",
       "      <th>Surname</th>\n",
       "      <th>Gender</th>\n",
       "      <th>Category</th>\n",
       "      <th>Club</th>\n",
       "      <th>Start</th>\n",
       "      <th>Finish</th>\n",
       "    </tr>\n",
       "  </thead>\n",
       "  <tbody>\n",
       "    <tr>\n",
       "      <th>0</th>\n",
       "      <td>1</td>\n",
       "      <td>235</td>\n",
       "      <td>Stuart</td>\n",
       "      <td>Paterson</td>\n",
       "      <td>Male</td>\n",
       "      <td>Senior</td>\n",
       "      <td>NaN</td>\n",
       "      <td>09:45:00</td>\n",
       "      <td>10:24:41</td>\n",
       "    </tr>\n",
       "    <tr>\n",
       "      <th>1</th>\n",
       "      <td>2</td>\n",
       "      <td>285</td>\n",
       "      <td>Niku</td>\n",
       "      <td>Dhillon</td>\n",
       "      <td>Male</td>\n",
       "      <td>Senior</td>\n",
       "      <td>NaN</td>\n",
       "      <td>09:45:00</td>\n",
       "      <td>10:25:48</td>\n",
       "    </tr>\n",
       "    <tr>\n",
       "      <th>2</th>\n",
       "      <td>3</td>\n",
       "      <td>289</td>\n",
       "      <td>Allan</td>\n",
       "      <td>Ramsay</td>\n",
       "      <td>Male</td>\n",
       "      <td>40s</td>\n",
       "      <td>NaN</td>\n",
       "      <td>09:45:00</td>\n",
       "      <td>10:26:17</td>\n",
       "    </tr>\n",
       "    <tr>\n",
       "      <th>3</th>\n",
       "      <td>4</td>\n",
       "      <td>129</td>\n",
       "      <td>Andrew</td>\n",
       "      <td>Macrae</td>\n",
       "      <td>Male</td>\n",
       "      <td>40s</td>\n",
       "      <td>NaN</td>\n",
       "      <td>09:45:00</td>\n",
       "      <td>10:26:19</td>\n",
       "    </tr>\n",
       "  </tbody>\n",
       "</table>\n",
       "</div>"
      ],
      "text/plain": [
       "   Position  Number First_Name   Surname Gender Category Club     Start  \\\n",
       "0         1     235     Stuart  Paterson   Male   Senior  NaN  09:45:00   \n",
       "1         2     285       Niku   Dhillon   Male   Senior  NaN  09:45:00   \n",
       "2         3     289      Allan    Ramsay   Male      40s  NaN  09:45:00   \n",
       "3         4     129     Andrew    Macrae   Male      40s  NaN  09:45:00   \n",
       "\n",
       "     Finish  \n",
       "0  10:24:41  \n",
       "1  10:25:48  \n",
       "2  10:26:17  \n",
       "3  10:26:19  "
      ]
     },
     "execution_count": 7,
     "metadata": {},
     "output_type": "execute_result"
    }
   ],
   "source": [
    "df_select = df.loc[0:3, 'Position':'Finish']\n",
    "\n",
    "df_select"
   ]
  }
 ],
 "metadata": {
  "kernelspec": {
   "display_name": "Python 3",
   "language": "python",
   "name": "python3"
  },
  "language_info": {
   "codemirror_mode": {
    "name": "ipython",
    "version": 3
   },
   "file_extension": ".py",
   "mimetype": "text/x-python",
   "name": "python",
   "nbconvert_exporter": "python",
   "pygments_lexer": "ipython3",
   "version": "3.11.3"
  }
 },
 "nbformat": 4,
 "nbformat_minor": 2
}
